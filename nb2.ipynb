{
 "cells": [
  {
   "cell_type": "code",
   "execution_count": 1,
   "metadata": {},
   "outputs": [
    {
     "name": "stdout",
     "output_type": "stream",
     "text": [
      "Market is open: False\n",
      "Next market open: 2025-01-06 09:30:00-05:00\n",
      "Next market close: 2025-01-06 16:00:00-05:00\n"
     ]
    }
   ],
   "source": [
    "from alpaca.trading.client import TradingClient\n",
    "\n",
    "# Initialize Alpaca trading client\n",
    "client = TradingClient(\"PKR64DFAG0MLFMO9GCSP\", \"xt8iPQ8bjlrBs3rszdqkCeYJjiKtYx0HCuNpwYQ3\", paper=True)\n",
    "\n",
    "# Check market status\n",
    "clock = client.get_clock()\n",
    "print(\"Market is open:\", clock.is_open)\n",
    "print(\"Next market open:\", clock.next_open)\n",
    "print(\"Next market close:\", clock.next_close)\n"
   ]
  },
  {
   "cell_type": "code",
   "execution_count": 2,
   "metadata": {},
   "outputs": [
    {
     "ename": "AttributeError",
     "evalue": "'REST' object has no attribute 'update_account'",
     "output_type": "error",
     "traceback": [
      "\u001b[1;31m---------------------------------------------------------------------------\u001b[0m",
      "\u001b[1;31mAttributeError\u001b[0m                            Traceback (most recent call last)",
      "Cell \u001b[1;32mIn[2], line 11\u001b[0m\n\u001b[0;32m      8\u001b[0m api \u001b[38;5;241m=\u001b[39m REST(API_KEY, API_SECRET)\n\u001b[0;32m     10\u001b[0m \u001b[38;5;66;03m# Submit the crypto agreement\u001b[39;00m\n\u001b[1;32m---> 11\u001b[0m account \u001b[38;5;241m=\u001b[39m \u001b[43mapi\u001b[49m\u001b[38;5;241;43m.\u001b[39;49m\u001b[43mupdate_account\u001b[49m({\n\u001b[0;32m     12\u001b[0m     \u001b[38;5;124m\"\u001b[39m\u001b[38;5;124magreements\u001b[39m\u001b[38;5;124m\"\u001b[39m: [\n\u001b[0;32m     13\u001b[0m         {\n\u001b[0;32m     14\u001b[0m             \u001b[38;5;124m\"\u001b[39m\u001b[38;5;124magreement\u001b[39m\u001b[38;5;124m\"\u001b[39m: \u001b[38;5;124m\"\u001b[39m\u001b[38;5;124mcrypto_agreement\u001b[39m\u001b[38;5;124m\"\u001b[39m,\n\u001b[0;32m     15\u001b[0m             \u001b[38;5;124m\"\u001b[39m\u001b[38;5;124msigned_at\u001b[39m\u001b[38;5;124m\"\u001b[39m: \u001b[38;5;124m\"\u001b[39m\u001b[38;5;124m2025-01-01T18:13:44Z\u001b[39m\u001b[38;5;124m\"\u001b[39m\n\u001b[0;32m     16\u001b[0m         }\n\u001b[0;32m     17\u001b[0m     ]\n\u001b[0;32m     18\u001b[0m })\n\u001b[0;32m     20\u001b[0m \u001b[38;5;66;03m# Check account status\u001b[39;00m\n\u001b[0;32m     21\u001b[0m \u001b[38;5;28mprint\u001b[39m(\u001b[38;5;124m\"\u001b[39m\u001b[38;5;124mAccount Status:\u001b[39m\u001b[38;5;124m\"\u001b[39m, account)\n",
      "\u001b[1;31mAttributeError\u001b[0m: 'REST' object has no attribute 'update_account'"
     ]
    }
   ],
   "source": [
    "from alpaca_trade_api.rest import REST\n",
    "\n",
    "# Replace with your actual API credentials\n",
    "API_KEY = \"PKR64DFAG0MLFMO9GCSP\"\n",
    "API_SECRET = \"xt8iPQ8bjlrBs3rszdqkCeYJjiKtYx0HCuNpwYQ3\"\n",
    "\n",
    "# Initialize Alpaca API client\n",
    "api = REST(API_KEY, API_SECRET)\n",
    "\n",
    "# Submit the crypto agreement\n",
    "account = api.update_account({\n",
    "    \"agreements\": [\n",
    "        {\n",
    "            \"agreement\": \"crypto_agreement\",\n",
    "            \"signed_at\": \"2025-01-01T18:13:44Z\"\n",
    "        }\n",
    "    ]\n",
    "})\n",
    "\n",
    "# Check account status\n",
    "print(\"Account Status:\", account)\n"
   ]
  },
  {
   "cell_type": "code",
   "execution_count": 1,
   "metadata": {},
   "outputs": [
    {
     "name": "stdout",
     "output_type": "stream",
     "text": [
      "200 {'id': '7c4e314d-2bb0-485a-b848-e49396699b05', 'admin_configurations': {}, 'user_configurations': None, 'account_number': 'PA32KFLPIZM3', 'status': 'ACTIVE', 'crypto_status': 'ACTIVE', 'options_approved_level': 2, 'options_trading_level': 2, 'currency': 'USD', 'buying_power': '2000000', 'regt_buying_power': '2000000', 'daytrading_buying_power': '0', 'effective_buying_power': '2000000', 'non_marginable_buying_power': '1000000', 'options_buying_power': '1000000', 'bod_dtbp': '0', 'cash': '1000000', 'accrued_fees': '0', 'portfolio_value': '1000000', 'pattern_day_trader': False, 'trading_blocked': False, 'transfers_blocked': False, 'account_blocked': False, 'created_at': '2025-01-10T13:58:03.057225Z', 'trade_suspended_by_user': False, 'multiplier': '2', 'shorting_enabled': True, 'equity': '1000000', 'last_equity': '1000000', 'long_market_value': '0', 'short_market_value': '0', 'position_market_value': '0', 'initial_margin': '0', 'maintenance_margin': '0', 'last_maintenance_margin': '0', 'sma': '0', 'daytrade_count': 0, 'balance_asof': '2025-01-08', 'crypto_tier': 0, 'intraday_adjustments': '0', 'pending_reg_taf_fees': '0'}\n"
     ]
    }
   ],
   "source": [
    "import requests\n",
    "\n",
    "url = \"https://paper-api.alpaca.markets/v2/account\"\n",
    "headers = {\n",
    "    \"Apca-Api-Key-Id\": \"PKM6ZZB9O0ZVXV9IWY9A\",\n",
    "    \"Apca-Api-Secret-Key\": \"SawSMMH2grw0ggM8zcbhlSJTQ5SvnzqbrS9cXpz1\",\n",
    "}\n",
    "\n",
    "response = requests.get(url, headers=headers)\n",
    "print(response.status_code, response.json())\n"
   ]
  },
  {
   "cell_type": "code",
   "execution_count": 14,
   "metadata": {},
   "outputs": [
    {
     "name": "stdout",
     "output_type": "stream",
     "text": [
      "200 {'id': '3693d775-9a21-4817-9470-b31188ad37ed', 'client_order_id': '8d36919f-df54-485c-9b89-a42bb0e66d6a', 'created_at': '2025-01-04T23:54:52.121651696Z', 'updated_at': '2025-01-04T23:54:52.122520566Z', 'submitted_at': '2025-01-04T23:54:52.121651696Z', 'filled_at': None, 'expired_at': None, 'canceled_at': None, 'failed_at': None, 'replaced_at': None, 'replaced_by': None, 'replaces': None, 'asset_id': '276e2673-764b-4ab6-a611-caf665ca6340', 'symbol': 'BTC/USD', 'asset_class': 'crypto', 'notional': None, 'qty': '0.001', 'filled_qty': '0', 'filled_avg_price': None, 'order_class': '', 'order_type': 'market', 'type': 'market', 'side': 'buy', 'position_intent': 'buy_to_open', 'time_in_force': 'gtc', 'limit_price': None, 'stop_price': None, 'status': 'pending_new', 'extended_hours': False, 'legs': None, 'trail_percent': None, 'trail_price': None, 'hwm': None, 'subtag': None, 'source': None, 'expires_at': '2025-04-03T20:00:00Z'}\n"
     ]
    }
   ],
   "source": [
    "import requests\n",
    "\n",
    "# Endpoint for placing orders\n",
    "url = \"https://paper-api.alpaca.markets/v2/orders\"\n",
    "\n",
    "# Headers with your API keys\n",
    "headers = {\n",
    "    \"Apca-Api-Key-Id\": \"PKZFFRICB1IDIWIN5C1I\",\n",
    "    \"Apca-Api-Secret-Key\": \"fYafNbjNCurCKCvaloNqOL31q0c5U7hsRIgpPtJ6\",\n",
    "    \"Content-Type\": \"application/json\",\n",
    "}\n",
    "\n",
    "# Payload for the market order\n",
    "payload = {\n",
    "    \"symbol\": \"BTC/USD\",  # Replace with the crypto pair you want to trade\n",
    "    \"qty\": \"0.001\",       # Amount of crypto to buy (e.g., 0.001 BTC)\n",
    "    \"side\": \"buy\",        # \"buy\" or \"sell\"\n",
    "    \"type\": \"market\",     # Market order\n",
    "    \"time_in_force\": \"gtc\"  # Good-till-cancelled\n",
    "}\n",
    "\n",
    "# Send the POST request to place the order\n",
    "response = requests.post(url, json=payload, headers=headers)\n",
    "\n",
    "# Print the response to check if the order was successful\n",
    "print(response.status_code, response.json())\n"
   ]
  },
  {
   "cell_type": "code",
   "execution_count": null,
   "metadata": {},
   "outputs": [],
   "source": [
    "file = open(\"keys.txt\",\"r\")"
   ]
  },
  {
   "cell_type": "code",
   "execution_count": null,
   "metadata": {},
   "outputs": [],
   "source": [
    "import json\n",
    "import requests\n",
    "\n",
    "# Load API keys from the JSON file\n",
    "with open(\"alpaca_keys.json\", \"r\") as file:\n",
    "    data = json.load(file)\n",
    "\n",
    "# Extract keys from the JSON\n",
    "alpaca_key = data['alpaca_key']\n",
    "alpaca_secret = data['alpaca_secret']\n",
    "\n",
    "# Endpoint for placing orders\n",
    "url = \"https://paper-api.alpaca.markets/v2/orders\"\n",
    "\n",
    "# Headers with your API keys\n",
    "headers = {\n",
    "    \"Apca-Api-Key-Id\": alpaca_key,            # Use the dynamically loaded key\n",
    "    \"Apca-Api-Secret-Key\": alpaca_secret,    # Use the dynamically loaded secret\n",
    "    \"Content-Type\": \"application/json\",\n",
    "}\n",
    "\n",
    "# Payload for the market order\n",
    "payload = {\n",
    "    \"symbol\": \"BTC/USD\",  # Replace with the crypto pair you want to trade\n",
    "    \"qty\": \"0.001\",       # Amount of crypto to buy (e.g., 0.001 BTC)\n",
    "    \"side\": \"buy\",        # \"buy\" or \"sell\"\n",
    "    \"type\": \"market\",     # Market order\n",
    "    \"time_in_force\": \"gtc\"  # Good-till-cancelled\n",
    "}\n",
    "\n",
    "# Send the POST request to place the order\n",
    "response = requests.post(url, json=payload, headers=headers)\n",
    "\n",
    "# Print the response to check if the order was successful\n",
    "print(response.status_code, response.json())\n"
   ]
  },
  {
   "cell_type": "code",
   "execution_count": null,
   "metadata": {},
   "outputs": [],
   "source": []
  }
 ],
 "metadata": {
  "kernelspec": {
   "display_name": "Python 3",
   "language": "python",
   "name": "python3"
  },
  "language_info": {
   "codemirror_mode": {
    "name": "ipython",
    "version": 3
   },
   "file_extension": ".py",
   "mimetype": "text/x-python",
   "name": "python",
   "nbconvert_exporter": "python",
   "pygments_lexer": "ipython3",
   "version": "3.11.5"
  }
 },
 "nbformat": 4,
 "nbformat_minor": 2
}
