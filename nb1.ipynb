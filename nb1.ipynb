{
 "cells": [
  {
   "cell_type": "code",
   "execution_count": 2,
   "metadata": {},
   "outputs": [],
   "source": [
    "import cv2"
   ]
  },
  {
   "cell_type": "code",
   "execution_count": null,
   "metadata": {},
   "outputs": [
    {
     "name": "stdout",
     "output_type": "stream",
     "text": [
      "Downloading https://github.com/ultralytics/assets/releases/download/v8.3.0/yolov8n.pt to 'yolo-Weights\\yolov8n.pt'...\n"
     ]
    },
    {
     "name": "stderr",
     "output_type": "stream",
     "text": [
      "100%|██████████| 6.25M/6.25M [00:00<00:00, 7.16MB/s]\n"
     ]
    }
   ],
   "source": [
    "from ultralytics import YOLO\n",
    "model = YOLO(\"yolo-Weights/yolov8n.pt\")"
   ]
  },
  {
   "cell_type": "code",
   "execution_count": 53,
   "metadata": {},
   "outputs": [
    {
     "name": "stdout",
     "output_type": "stream",
     "text": [
      "Detected 1 cell phone(s): [(157, 304)]\n",
      "Object 1 - Center: (157, 304)\n",
      "Obect is in right of image: False\n",
      "Detected 1 cell phone(s): [(274, 312)]\n",
      "Object 1 - Center: (274, 312)\n",
      "Obect is in right of image: False\n",
      "Detected 2 cell phone(s): [(187, 321), (477, 311)]\n",
      "Object 1 - Center: (187, 321)\n",
      "Obect is in right of image: False\n",
      "Object 2 - Center: (477, 311)\n",
      "Obect is in right of image: True\n",
      "Detected 2 cell phone(s): [(449, 293), (184, 311)]\n",
      "Object 1 - Center: (449, 293)\n",
      "Obect is in right of image: True\n",
      "Object 2 - Center: (184, 311)\n",
      "Obect is in right of image: False\n",
      "Detected 2 cell phone(s): [(473, 287), (183, 305)]\n",
      "Object 1 - Center: (473, 287)\n",
      "Obect is in right of image: True\n",
      "Object 2 - Center: (183, 305)\n",
      "Obect is in right of image: False\n"
     ]
    }
   ],
   "source": [
    "import cv2\n",
    "import math\n",
    "from ultralytics import YOLO\n",
    "import time  # For cooldown timer\n",
    "\n",
    "cap = cv2.VideoCapture(0)\n",
    "cap.set(3, 640)\n",
    "cap.set(4, 480)\n",
    "\n",
    "model = YOLO(\"yolo-Weights/yolov8n.pt\", verbose=False)\n",
    "\n",
    "classNames = [\"person\", \"bicycle\", \"car\", \"motorbike\", \"aeroplane\", \"bus\", \"train\", \"truck\", \"boat\",\n",
    "              \"traffic light\", \"fire hydrant\", \"stop sign\", \"parking meter\", \"bench\", \"bird\", \"cat\",\n",
    "              \"dog\", \"horse\", \"sheep\", \"cow\", \"elephant\", \"bear\", \"zebra\", \"giraffe\", \"backpack\", \"umbrella\",\n",
    "              \"handbag\", \"tie\", \"suitcase\", \"frisbee\", \"skis\", \"snowboard\", \"sports ball\", \"kite\", \"baseball bat\",\n",
    "              \"baseball glove\", \"skateboard\", \"surfboard\", \"tennis racket\", \"bottle\", \"wine glass\", \"cup\",\n",
    "              \"fork\", \"knife\", \"spoon\", \"bowl\", \"banana\", \"apple\", \"sandwich\", \"orange\", \"broccoli\",\n",
    "              \"carrot\", \"hot dog\", \"pizza\", \"donut\", \"cake\", \"chair\", \"sofa\", \"pottedplant\", \"bed\",\n",
    "              \"diningtable\", \"toilet\", \"tvmonitor\", \"laptop\", \"mouse\", \"remote\", \"keyboard\", \"cell phone\",\n",
    "              \"microwave\", \"oven\", \"toaster\", \"sink\", \"refrigerator\", \"book\", \"clock\", \"vase\", \"scissors\",\n",
    "              \"teddy bear\", \"hair drier\", \"toothbrush\"]\n",
    "\n",
    "# Variables to control cooldown and tracking\n",
    "target_class = \"cell phone\"  # Object class to detect\n",
    "cooldown_time = 5  # Seconds to wait before triggering the action again\n",
    "last_action_time = 0  # Track the last time an action was executed\n",
    "threshold = 0.5\n",
    "\n",
    "while True:\n",
    "    success, img = cap.read()\n",
    "    if not success:\n",
    "        break\n",
    "\n",
    "    results = model(img, stream=True, verbose=False)\n",
    "    objects_detected = []  # Store positions of objects of the target class\n",
    "\n",
    "    for r in results:\n",
    "        boxes = r.boxes\n",
    "\n",
    "        for box in boxes:\n",
    "            x1, y1, x2, y2 = box.xyxy[0]\n",
    "            x1, y1, x2, y2 = int(x1), int(y1), int(x2), int(y2)\n",
    "\n",
    "            # Calculate center coordinates\n",
    "            x_centre = (x1 + x2) // 2\n",
    "            y_centre = (y1 + y2) // 2\n",
    "\n",
    "            confidence = float(box.conf[0])\n",
    "            cls = int(box.cls[0])\n",
    "            detected_class = classNames[cls]\n",
    "\n",
    "            # Only proceed if confidence is above the threshold\n",
    "            if confidence >= threshold:\n",
    "                # Draw bounding box and center dot\n",
    "                cv2.rectangle(img, (x1, y1), (x2, y2), (255, 0, 255), 3)\n",
    "                cv2.circle(img, (x_centre, y_centre), radius=5, color=(0, 0, 255), thickness=-1)\n",
    "                cv2.putText(img, f\"{detected_class} {confidence:.2f}\", (x1, y1 - 10), \n",
    "                            cv2.FONT_HERSHEY_SIMPLEX, 0.6, (0, 255, 0), 2)\n",
    "\n",
    "                # If the detected class matches the target, add to the list\n",
    "                if detected_class == target_class:\n",
    "                    objects_detected.append((x_centre, y_centre))\n",
    "\n",
    "    # Check if any objects of the target class were detected\n",
    "    if objects_detected:\n",
    "        # Only execute the action if cooldown time has passed\n",
    "        current_time = time.time()\n",
    "        if current_time - last_action_time > cooldown_time:\n",
    "            print(f\"Detected {len(objects_detected)} {target_class}(s): {objects_detected}\")\n",
    "            # Perform your custom action here\n",
    "            for idx, (x, y) in enumerate(objects_detected):\n",
    "\n",
    "                ## detect whether object in left or right of image:\n",
    "                ## take left as 0 and right as 1\n",
    "                side_of_image = x > 320 # half image size\n",
    "                print(f\"Object {idx + 1} - Center: ({x}, {y})\")\n",
    "                print(f'Obect is in right of image: {side_of_image}')\n",
    "            # Update last action time\n",
    "            last_action_time = current_time\n",
    "\n",
    "    cv2.imshow('Webcam', img)\n",
    "    if cv2.waitKey(1) == ord('q'):\n",
    "        break\n",
    "\n",
    "cap.release()\n",
    "cv2.destroyAllWindows()\n"
   ]
  },
  {
   "cell_type": "code",
   "execution_count": null,
   "metadata": {},
   "outputs": [],
   "source": []
  }
 ],
 "metadata": {
  "kernelspec": {
   "display_name": "Python 3",
   "language": "python",
   "name": "python3"
  },
  "language_info": {
   "codemirror_mode": {
    "name": "ipython",
    "version": 3
   },
   "file_extension": ".py",
   "mimetype": "text/x-python",
   "name": "python",
   "nbconvert_exporter": "python",
   "pygments_lexer": "ipython3",
   "version": "3.11.5"
  }
 },
 "nbformat": 4,
 "nbformat_minor": 2
}
