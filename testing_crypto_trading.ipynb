{
 "cells": [
  {
   "cell_type": "code",
   "execution_count": 1,
   "metadata": {},
   "outputs": [],
   "source": [
    "from ultralytics import YOLO\n",
    "model = YOLO(\"yolo-Weights/yolov8n.pt\")"
   ]
  },
  {
   "cell_type": "code",
   "execution_count": 2,
   "metadata": {},
   "outputs": [],
   "source": [
    "import cv2\n",
    "import math\n",
    "import time\n",
    "\n",
    "capture = cv2.VideoCapture(1)\n",
    "capture.set(3,640)\n",
    "capture.set(4,480)\n",
    "\n",
    "classNames = [\"person\", \"bicycle\", \"car\", \"motorbike\", \"aeroplane\", \"bus\", \"train\", \"truck\", \"boat\",\n",
    "              \"traffic light\", \"fire hydrant\", \"stop sign\", \"parking meter\", \"bench\", \"bird\", \"cat\",\n",
    "              \"dog\", \"horse\", \"sheep\", \"cow\", \"elephant\", \"bear\", \"zebra\", \"giraffe\", \"backpack\", \"umbrella\",\n",
    "              \"handbag\", \"tie\", \"suitcase\", \"frisbee\", \"skis\", \"snowboard\", \"sports ball\", \"kite\", \"baseball bat\",\n",
    "              \"baseball glove\", \"skateboard\", \"surfboard\", \"tennis racket\", \"bottle\", \"wine glass\", \"cup\",\n",
    "              \"fork\", \"knife\", \"spoon\", \"bowl\", \"banana\", \"apple\", \"sandwich\", \"orange\", \"broccoli\",\n",
    "              \"carrot\", \"hot dog\", \"pizza\", \"donut\", \"cake\", \"chair\", \"sofa\", \"pottedplant\", \"bed\",\n",
    "              \"diningtable\", \"toilet\", \"tvmonitor\", \"laptop\", \"mouse\", \"remote\", \"keyboard\", \"cell phone\",\n",
    "              \"microwave\", \"oven\", \"toaster\", \"sink\", \"refrigerator\", \"book\", \"clock\", \"vase\", \"scissors\",\n",
    "              \"teddy bear\", \"hair drier\", \"toothbrush\"]\n",
    "\n",
    "target_class = \"cell phone\"\n",
    "threshold = 0.5\n",
    "\n",
    "\n",
    "while True:\n",
    "\n",
    "    success, image = capture.read()\n",
    "    if not success:\n",
    "        break\n",
    "\n",
    "    results = model(image, stream=True, verbose=False)\n",
    "\n",
    "    for r in results:\n",
    "        boxes = r.boxes\n",
    "\n",
    "        for box in boxes:\n",
    "            x1,y1,x2,y2 = box.xyxy[0]\n",
    "            x1,y1,x2,y2 = int(x1),int(y1),int(x2),int(y2)\n",
    "\n",
    "\n",
    "            ## Calculate centre coordinates of box\n",
    "            x_centre = (x1+x2)//2\n",
    "            y_centre = (y1+y2)//2\n",
    "            image_width = image.shape[1]\n",
    "            image_height = image.shape[0]\n",
    "            norm_x = x_centre / image_width\n",
    "            norm_y = y_centre / image_height\n",
    "\n",
    "            confidence = float(box.conf[0])\n",
    "            cls = int(box.cls[0])\n",
    "            detected_class = classNames[cls]\n",
    "\n",
    "            if confidence >= threshold and detected_class == target_class:\n",
    "\n",
    "                cv2.rectangle(image, (x1,y1),(x2,y2), (255,0,255),3)\n",
    "                cv2.putText(image, f\"{detected_class} {confidence:.2f}\",(x1,y1-10), cv2.FONT_HERSHEY_SIMPLEX,0.6,(0,255,0),2)\n",
    "\n",
    "                cv2.circle(image, (x_centre,y_centre),radius=5,color=(0,0,255),thickness=-1)\n",
    "                coord_text = f\"({norm_x:.2f}, {norm_y:.2f})\"\n",
    "                cv2.putText(image, coord_text, (x_centre+10, y_centre),cv2.FONT_HERSHEY_SIMPLEX,0.6,(0,0,255),2)\n",
    "\n",
    "\n",
    "\n",
    "    cv2.imshow('Webcam',image)\n",
    "\n",
    "    if cv2.waitKey(1) == ord('q'):\n",
    "        break\n",
    "\n",
    "capture.release()\n",
    "cv2.destroyAllWindows()"
   ]
  },
  {
   "cell_type": "code",
   "execution_count": 3,
   "metadata": {},
   "outputs": [
    {
     "name": "stdout",
     "output_type": "stream",
     "text": [
      "200 {'id': 'b1a83752-3701-4d17-aca8-649f48f6d1e4', 'client_order_id': 'e6beeec1-7e56-4902-a990-56649a67c435', 'created_at': '2025-01-07T19:13:14.024766037Z', 'updated_at': '2025-01-07T19:13:14.025827437Z', 'submitted_at': '2025-01-07T19:13:14.024766037Z', 'filled_at': None, 'expired_at': None, 'canceled_at': None, 'failed_at': None, 'replaced_at': None, 'replaced_by': None, 'replaces': None, 'asset_id': '276e2673-764b-4ab6-a611-caf665ca6340', 'symbol': 'BTC/USD', 'asset_class': 'crypto', 'notional': None, 'qty': '0.00009975', 'filled_qty': '0', 'filled_avg_price': None, 'order_class': '', 'order_type': 'market', 'type': 'market', 'side': 'sell', 'position_intent': 'sell_to_close', 'time_in_force': 'gtc', 'limit_price': None, 'stop_price': None, 'status': 'pending_new', 'extended_hours': False, 'legs': None, 'trail_percent': None, 'trail_price': None, 'hwm': None, 'subtag': None, 'source': None, 'expires_at': '2025-04-07T20:00:00Z'}\n"
     ]
    }
   ],
   "source": [
    "import json\n",
    "import requests\n",
    "\n",
    "## Load API keys\n",
    "with open(\"alpaca_keys.json\",\"r\") as file:\n",
    "    data = json.load(file)\n",
    "\n",
    "alpaca_key = data['alpaca_key']\n",
    "alpaca_secret = data['alpaca_secret']\n",
    "\n",
    "\n",
    "url = \"https://paper-api.alpaca.markets/v2/orders\"\n",
    "\n",
    "headers = {\n",
    "    \"Apca-Api-Key-Id\": alpaca_key,\n",
    "    \"Apca-Api-Secret-Key\": alpaca_secret,\n",
    "    \"Content-Type\": \"application/json\",\n",
    "}\n",
    "\n",
    "payload = {\n",
    "    \"symbol\": \"BTC/USD\",\n",
    "    \"qty\": \"0.00009975\",\n",
    "    \"side\": \"sell\",\n",
    "    \"type\": \"market\",\n",
    "    \"time_in_force\": \"gtc\"      # good till cancelled\n",
    "}\n",
    "\n",
    "response = requests.post(url,json=payload,headers=headers)\n",
    "\n",
    "print(response.status_code, response.json())"
   ]
  },
  {
   "cell_type": "code",
   "execution_count": null,
   "metadata": {},
   "outputs": [],
   "source": []
  }
 ],
 "metadata": {
  "kernelspec": {
   "display_name": "Python 3",
   "language": "python",
   "name": "python3"
  },
  "language_info": {
   "codemirror_mode": {
    "name": "ipython",
    "version": 3
   },
   "file_extension": ".py",
   "mimetype": "text/x-python",
   "name": "python",
   "nbconvert_exporter": "python",
   "pygments_lexer": "ipython3",
   "version": "3.11.5"
  }
 },
 "nbformat": 4,
 "nbformat_minor": 2
}
