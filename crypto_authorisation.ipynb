{
 "cells": [
  {
   "cell_type": "code",
   "execution_count": 1,
   "metadata": {},
   "outputs": [],
   "source": [
    "import json\n",
    "import requests\n",
    "from alpaca_trade_api import REST\n",
    "import matplotlib.pyplot as plt\n",
    "import pandas as pd\n",
    "\n",
    "\n",
    "\n",
    "with open(\"alpaca_keys.json\", \"r\") as file:\n",
    "    data = json.load(file)\n",
    "\n",
    "alpaca_key = data['alpaca_key']\n",
    "alpaca_secret = data['alpaca_secret']\n",
    "\n",
    "ALPACA_CONFIG = {\n",
    "    \"API_KEY\": alpaca_key,\n",
    "    \"API_SECRET\": alpaca_secret,\n",
    "    \"PAPER\": True,\n",
    "}"
   ]
  },
  {
   "cell_type": "code",
   "execution_count": null,
   "metadata": {},
   "outputs": [],
   "source": [
    "from alpaca.trading.client import TradingClient\n",
    "\n",
    "# Initialize Alpaca trading client\n",
    "client = TradingClient(alpaca_key, alpaca_secret, paper=True)\n",
    "\n",
    "# Check market status\n",
    "clock = client.get_clock()\n",
    "print(\"Market is open:\", clock.is_open)\n",
    "print(\"Next market open:\", clock.next_open)\n",
    "print(\"Next market close:\", clock.next_close)\n"
   ]
  },
  {
   "cell_type": "code",
   "execution_count": null,
   "metadata": {},
   "outputs": [],
   "source": []
  },
  {
   "cell_type": "code",
   "execution_count": null,
   "metadata": {},
   "outputs": [],
   "source": [
    "# Replace with your actual API credentials\n",
    "API_KEY = alpaca_key\n",
    "API_SECRET = alpaca_secret\n",
    "\n",
    "# Initialize Alpaca API client\n",
    "api = REST(API_KEY, API_SECRET)\n",
    "\n",
    "# Submit the crypto agreement\n",
    "account = api.update_account({\n",
    "    \"agreements\": [\n",
    "        {\n",
    "            \"agreement\": \"crypto_agreement\",\n",
    "            \"signed_at\": \"2025-01-01T18:13:44Z\"\n",
    "        }\n",
    "    ]\n",
    "})\n",
    "\n",
    "# Check account status\n",
    "print(\"Account Status:\", account)\n"
   ]
  },
  {
   "cell_type": "code",
   "execution_count": null,
   "metadata": {},
   "outputs": [],
   "source": [
    "url = \"https://paper-api.alpaca.markets/v2/account\"\n",
    "headers = {\n",
    "    \"Apca-Api-Key-Id\": alpaca_key,\n",
    "    \"Apca-Api-Secret-Key\": alpaca_secret,\n",
    "}\n",
    "\n",
    "response = requests.get(url, headers=headers)\n",
    "print(response.status_code, response.json())\n"
   ]
  },
  {
   "cell_type": "code",
   "execution_count": null,
   "metadata": {},
   "outputs": [],
   "source": [
    "# Endpoint for placing orders\n",
    "url = \"https://paper-api.alpaca.markets/v2/orders\"\n",
    "\n",
    "# Headers with your API keys\n",
    "headers = {\n",
    "    \"Apca-Api-Key-Id\": alpaca_key,\n",
    "    \"Apca-Api-Secret-Key\": alpaca_secret,\n",
    "    \"Content-Type\": \"application/json\",\n",
    "}\n",
    "\n",
    "# Payload for the market order\n",
    "payload = {\n",
    "    \"symbol\": \"BTC/USD\",  # Replace with the crypto pair you want to trade\n",
    "    \"qty\": \"0.001\",       # Amount of crypto to buy (e.g., 0.001 BTC)\n",
    "    \"side\": \"buy\",        # \"buy\" or \"sell\"\n",
    "    \"type\": \"market\",     # Market order\n",
    "    \"time_in_force\": \"gtc\"  # Good-till-cancelled\n",
    "}\n",
    "\n",
    "# Send the POST request to place the order\n",
    "response = requests.post(url, json=payload, headers=headers)\n",
    "\n",
    "# Print the response to check if the order was successful\n",
    "print(response.status_code, response.json())\n"
   ]
  },
  {
   "cell_type": "code",
   "execution_count": null,
   "metadata": {},
   "outputs": [],
   "source": [
    "file = open(\"keys.txt\",\"r\")"
   ]
  },
  {
   "cell_type": "code",
   "execution_count": null,
   "metadata": {},
   "outputs": [],
   "source": [
    "# Endpoint for placing orders\n",
    "url = \"https://paper-api.alpaca.markets/v2/orders\"\n",
    "\n",
    "# Headers with your API keys\n",
    "headers = {\n",
    "    \"Apca-Api-Key-Id\": alpaca_key,            # Use the dynamically loaded key\n",
    "    \"Apca-Api-Secret-Key\": alpaca_secret,    # Use the dynamically loaded secret\n",
    "    \"Content-Type\": \"application/json\",\n",
    "}\n",
    "\n",
    "# Payload for the market order\n",
    "payload = {\n",
    "    \"symbol\": \"BTC/USD\",  # Replace with the crypto pair you want to trade\n",
    "    \"qty\": \"0.001\",       # Amount of crypto to buy (e.g., 0.001 BTC)\n",
    "    \"side\": \"buy\",        # \"buy\" or \"sell\"\n",
    "    \"type\": \"market\",     # Market order\n",
    "    \"time_in_force\": \"gtc\"  # Good-till-cancelled\n",
    "}\n",
    "\n",
    "# Send the POST request to place the order\n",
    "response = requests.post(url, json=payload, headers=headers)\n",
    "\n",
    "# Print the response to check if the order was successful\n",
    "print(response.status_code, response.json())\n"
   ]
  },
  {
   "cell_type": "code",
   "execution_count": 4,
   "metadata": {},
   "outputs": [],
   "source": [
    "# Replace with your Alpaca API credent\n",
    "BASE_URL = 'https://paper-api.alpaca.markets'  # Use 'https://api.alpaca.markets' for live trading\n",
    "\n",
    "# Initialize the API\n",
    "api = REST(alpaca_key, alpaca_secret, BASE_URL)\n"
   ]
  },
  {
   "cell_type": "code",
   "execution_count": null,
   "metadata": {},
   "outputs": [],
   "source": [
    "# Get account information\n",
    "account = api.get_account()\n",
    "equity = float(account.equity)\n",
    "print(f\"Account equity: ${equity}\")"
   ]
  },
  {
   "cell_type": "code",
   "execution_count": null,
   "metadata": {},
   "outputs": [],
   "source": [
    "# Get all closed orders\n",
    "orders = api.list_orders(status='closed', limit=100)  # Adjust 'limit' to fetch more trades\n",
    "trade_data = []\n",
    "\n",
    "for order in orders:\n",
    "    trade_data.append({\n",
    "        'symbol': order.symbol,\n",
    "        'filled_at': order.filled_at,\n",
    "        'qty': order.qty,\n",
    "        'side': order.side,\n",
    "        'price': order.filled_avg_price\n",
    "    })\n",
    "\n",
    "# Convert to a DataFrame\n",
    "trade_df = pd.DataFrame(trade_data)\n",
    "trade_df['filled_at'] = pd.to_datetime(trade_df['filled_at'])  # Ensure datetime format\n",
    "print(trade_df)\n"
   ]
  },
  {
   "cell_type": "code",
   "execution_count": null,
   "metadata": {},
   "outputs": [],
   "source": [
    "equity_data = {\n",
    "    'timestamp': ['2025-01-01', '2025-01-02', '2025-01-03'],\n",
    "    'equity': [100000, 101000, 102500]\n",
    "}\n",
    "equity_df = pd.DataFrame(equity_data)\n",
    "equity_df['timestamp'] = pd.to_datetime(equity_df['timestamp'])\n",
    "\n",
    "# Plot equity over time\n",
    "plt.plot(equity_df['timestamp'], equity_df['equity'], label='Account Equity')\n",
    "plt.xlabel('Date')\n",
    "plt.ylabel('Equity ($)')\n",
    "plt.title('Account Equity Over Time')\n",
    "plt.legend()\n",
    "plt.show()\n"
   ]
  },
  {
   "cell_type": "code",
   "execution_count": null,
   "metadata": {},
   "outputs": [],
   "source": [
    "# Plot equity\n",
    "plt.plot(equity_df['timestamp'], equity_df['equity'], label='Account Equity')\n",
    "\n",
    "# Add trade markers\n",
    "for _, row in trade_df.iterrows():\n",
    "    color = 'green' if row['side'] == 'buy' else 'red'\n",
    "    plt.scatter(row['filled_at'], equity_df['equity'].iloc[-1], color=color, label=row['symbol'])\n",
    "\n",
    "plt.xlabel('Date')\n",
    "plt.ylabel('Equity ($)')\n",
    "plt.title('Account Equity and Trades Over Time')\n",
    "plt.legend()\n",
    "plt.show()\n"
   ]
  }
 ],
 "metadata": {
  "kernelspec": {
   "display_name": "Python 3",
   "language": "python",
   "name": "python3"
  },
  "language_info": {
   "codemirror_mode": {
    "name": "ipython",
    "version": 3
   },
   "file_extension": ".py",
   "mimetype": "text/x-python",
   "name": "python",
   "nbconvert_exporter": "python",
   "pygments_lexer": "ipython3",
   "version": "3.11.5"
  }
 },
 "nbformat": 4,
 "nbformat_minor": 2
}
